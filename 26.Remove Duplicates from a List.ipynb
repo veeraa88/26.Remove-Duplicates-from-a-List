{
 "cells": [
  {
   "cell_type": "code",
   "execution_count": null,
   "id": "4bf7cce1-a216-491f-adee-a5bcc04ed646",
   "metadata": {},
   "outputs": [],
   "source": [
    "## Remove Duplicates from a List"
   ]
  },
  {
   "cell_type": "code",
   "execution_count": 42,
   "id": "064a26ed-662d-4cb8-b64e-62eacc31bea6",
   "metadata": {},
   "outputs": [
    {
     "name": "stdout",
     "output_type": "stream",
     "text": [
      "[1, 2, 3, 4, 5, 6, 7]\n"
     ]
    }
   ],
   "source": [
    "k=[1,2,2,3,3,3,4,4,4,4,5,5,5,5,5,6,7]\n",
    "def rem():\n",
    "    val = []\n",
    "    for i in k:\n",
    "        if i not in val:\n",
    "            val.append(i)\n",
    "    print(val)\n",
    "\n",
    "\n",
    "rem()"
   ]
  },
  {
   "cell_type": "code",
   "execution_count": null,
   "id": "82c09a88-1934-480d-b35b-81e1692468e4",
   "metadata": {},
   "outputs": [],
   "source": []
  }
 ],
 "metadata": {
  "kernelspec": {
   "display_name": "Python [conda env:base] *",
   "language": "python",
   "name": "conda-base-py"
  },
  "language_info": {
   "codemirror_mode": {
    "name": "ipython",
    "version": 3
   },
   "file_extension": ".py",
   "mimetype": "text/x-python",
   "name": "python",
   "nbconvert_exporter": "python",
   "pygments_lexer": "ipython3",
   "version": "3.12.7"
  }
 },
 "nbformat": 4,
 "nbformat_minor": 5
}
